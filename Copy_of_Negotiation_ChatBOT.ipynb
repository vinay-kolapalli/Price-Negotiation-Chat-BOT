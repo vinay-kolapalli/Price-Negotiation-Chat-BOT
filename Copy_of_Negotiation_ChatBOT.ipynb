{
  "nbformat": 4,
  "nbformat_minor": 0,
  "metadata": {
    "colab": {
      "provenance": [],
      "authorship_tag": "ABX9TyNezmZJZEDebsqjP7v++aL4",
      "include_colab_link": true
    },
    "kernelspec": {
      "name": "python3",
      "display_name": "Python 3"
    },
    "language_info": {
      "name": "python"
    }
  },
  "cells": [
    {
      "cell_type": "markdown",
      "metadata": {
        "id": "view-in-github",
        "colab_type": "text"
      },
      "source": [
        "<a href=\"https://colab.research.google.com/github/vinay-kolapalli/Price-Negotiation-Chat-BOT/blob/main/Copy_of_Negotiation_ChatBOT.ipynb\" target=\"_parent\"><img src=\"https://colab.research.google.com/assets/colab-badge.svg\" alt=\"Open In Colab\"/></a>"
      ]
    },
    {
      "cell_type": "code",
      "execution_count": null,
      "metadata": {
        "colab": {
          "base_uri": "https://localhost:8080/"
        },
        "id": "yDVAeCh0ygHu",
        "outputId": "dc70d570-c555-43c0-91ed-029e04c89e9f"
      },
      "outputs": [
        {
          "output_type": "stream",
          "name": "stdout",
          "text": [
            "Collecting python-gemini-api\n",
            "  Downloading python_gemini_api-2.4.12-py3-none-any.whl.metadata (38 kB)\n",
            "Collecting httpx>=0.20.0 (from httpx[http2]>=0.20.0->python-gemini-api)\n",
            "  Downloading httpx-0.27.2-py3-none-any.whl.metadata (7.1 kB)\n",
            "Requirement already satisfied: requests in /usr/local/lib/python3.10/dist-packages (from python-gemini-api) (2.32.3)\n",
            "Collecting browser-cookie3 (from python-gemini-api)\n",
            "  Downloading browser_cookie3-0.19.1-py3-none-any.whl.metadata (632 bytes)\n",
            "Collecting loguru (from python-gemini-api)\n",
            "  Downloading loguru-0.7.2-py3-none-any.whl.metadata (23 kB)\n",
            "Requirement already satisfied: pydantic in /usr/local/lib/python3.10/dist-packages (from python-gemini-api) (2.9.1)\n",
            "Requirement already satisfied: aiohttp in /usr/local/lib/python3.10/dist-packages (from python-gemini-api) (3.10.5)\n",
            "Requirement already satisfied: anyio in /usr/local/lib/python3.10/dist-packages (from httpx>=0.20.0->httpx[http2]>=0.20.0->python-gemini-api) (3.7.1)\n",
            "Requirement already satisfied: certifi in /usr/local/lib/python3.10/dist-packages (from httpx>=0.20.0->httpx[http2]>=0.20.0->python-gemini-api) (2024.8.30)\n",
            "Collecting httpcore==1.* (from httpx>=0.20.0->httpx[http2]>=0.20.0->python-gemini-api)\n",
            "  Downloading httpcore-1.0.5-py3-none-any.whl.metadata (20 kB)\n",
            "Requirement already satisfied: idna in /usr/local/lib/python3.10/dist-packages (from httpx>=0.20.0->httpx[http2]>=0.20.0->python-gemini-api) (3.8)\n",
            "Requirement already satisfied: sniffio in /usr/local/lib/python3.10/dist-packages (from httpx>=0.20.0->httpx[http2]>=0.20.0->python-gemini-api) (1.3.1)\n",
            "Collecting h11<0.15,>=0.13 (from httpcore==1.*->httpx>=0.20.0->httpx[http2]>=0.20.0->python-gemini-api)\n",
            "  Downloading h11-0.14.0-py3-none-any.whl.metadata (8.2 kB)\n",
            "Collecting h2<5,>=3 (from httpx[http2]>=0.20.0->python-gemini-api)\n",
            "  Downloading h2-4.1.0-py3-none-any.whl.metadata (3.6 kB)\n",
            "Requirement already satisfied: aiohappyeyeballs>=2.3.0 in /usr/local/lib/python3.10/dist-packages (from aiohttp->python-gemini-api) (2.4.0)\n",
            "Requirement already satisfied: aiosignal>=1.1.2 in /usr/local/lib/python3.10/dist-packages (from aiohttp->python-gemini-api) (1.3.1)\n",
            "Requirement already satisfied: attrs>=17.3.0 in /usr/local/lib/python3.10/dist-packages (from aiohttp->python-gemini-api) (24.2.0)\n",
            "Requirement already satisfied: frozenlist>=1.1.1 in /usr/local/lib/python3.10/dist-packages (from aiohttp->python-gemini-api) (1.4.1)\n",
            "Requirement already satisfied: multidict<7.0,>=4.5 in /usr/local/lib/python3.10/dist-packages (from aiohttp->python-gemini-api) (6.1.0)\n",
            "Requirement already satisfied: yarl<2.0,>=1.0 in /usr/local/lib/python3.10/dist-packages (from aiohttp->python-gemini-api) (1.11.1)\n",
            "Requirement already satisfied: async-timeout<5.0,>=4.0 in /usr/local/lib/python3.10/dist-packages (from aiohttp->python-gemini-api) (4.0.3)\n",
            "Collecting lz4 (from browser-cookie3->python-gemini-api)\n",
            "  Downloading lz4-4.3.3-cp310-cp310-manylinux_2_17_x86_64.manylinux2014_x86_64.whl.metadata (3.7 kB)\n",
            "Collecting pycryptodomex (from browser-cookie3->python-gemini-api)\n",
            "  Downloading pycryptodomex-3.20.0-cp35-abi3-manylinux_2_17_x86_64.manylinux2014_x86_64.whl.metadata (3.4 kB)\n",
            "Requirement already satisfied: jeepney in /usr/lib/python3/dist-packages (from browser-cookie3->python-gemini-api) (0.7.1)\n",
            "Requirement already satisfied: annotated-types>=0.6.0 in /usr/local/lib/python3.10/dist-packages (from pydantic->python-gemini-api) (0.7.0)\n",
            "Requirement already satisfied: pydantic-core==2.23.3 in /usr/local/lib/python3.10/dist-packages (from pydantic->python-gemini-api) (2.23.3)\n",
            "Requirement already satisfied: typing-extensions>=4.6.1 in /usr/local/lib/python3.10/dist-packages (from pydantic->python-gemini-api) (4.12.2)\n",
            "Requirement already satisfied: charset-normalizer<4,>=2 in /usr/local/lib/python3.10/dist-packages (from requests->python-gemini-api) (3.3.2)\n",
            "Requirement already satisfied: urllib3<3,>=1.21.1 in /usr/local/lib/python3.10/dist-packages (from requests->python-gemini-api) (2.0.7)\n",
            "Collecting hyperframe<7,>=6.0 (from h2<5,>=3->httpx[http2]>=0.20.0->python-gemini-api)\n",
            "  Downloading hyperframe-6.0.1-py3-none-any.whl.metadata (2.7 kB)\n",
            "Collecting hpack<5,>=4.0 (from h2<5,>=3->httpx[http2]>=0.20.0->python-gemini-api)\n",
            "  Downloading hpack-4.0.0-py3-none-any.whl.metadata (2.5 kB)\n",
            "Requirement already satisfied: exceptiongroup in /usr/local/lib/python3.10/dist-packages (from anyio->httpx>=0.20.0->httpx[http2]>=0.20.0->python-gemini-api) (1.2.2)\n",
            "Downloading python_gemini_api-2.4.12-py3-none-any.whl (47 kB)\n",
            "\u001b[2K   \u001b[90m━━━━━━━━━━━━━━━━━━━━━━━━━━━━━━━━━━━━━━━━\u001b[0m \u001b[32m47.3/47.3 kB\u001b[0m \u001b[31m2.3 MB/s\u001b[0m eta \u001b[36m0:00:00\u001b[0m\n",
            "\u001b[?25hDownloading httpx-0.27.2-py3-none-any.whl (76 kB)\n",
            "\u001b[2K   \u001b[90m━━━━━━━━━━━━━━━━━━━━━━━━━━━━━━━━━━━━━━━━\u001b[0m \u001b[32m76.4/76.4 kB\u001b[0m \u001b[31m3.4 MB/s\u001b[0m eta \u001b[36m0:00:00\u001b[0m\n",
            "\u001b[?25hDownloading httpcore-1.0.5-py3-none-any.whl (77 kB)\n",
            "\u001b[2K   \u001b[90m━━━━━━━━━━━━━━━━━━━━━━━━━━━━━━━━━━━━━━━━\u001b[0m \u001b[32m77.9/77.9 kB\u001b[0m \u001b[31m5.4 MB/s\u001b[0m eta \u001b[36m0:00:00\u001b[0m\n",
            "\u001b[?25hDownloading browser_cookie3-0.19.1-py3-none-any.whl (14 kB)\n",
            "Downloading loguru-0.7.2-py3-none-any.whl (62 kB)\n",
            "\u001b[2K   \u001b[90m━━━━━━━━━━━━━━━━━━━━━━━━━━━━━━━━━━━━━━━━\u001b[0m \u001b[32m62.5/62.5 kB\u001b[0m \u001b[31m3.6 MB/s\u001b[0m eta \u001b[36m0:00:00\u001b[0m\n",
            "\u001b[?25hDownloading h2-4.1.0-py3-none-any.whl (57 kB)\n",
            "\u001b[2K   \u001b[90m━━━━━━━━━━━━━━━━━━━━━━━━━━━━━━━━━━━━━━━━\u001b[0m \u001b[32m57.5/57.5 kB\u001b[0m \u001b[31m4.1 MB/s\u001b[0m eta \u001b[36m0:00:00\u001b[0m\n",
            "\u001b[?25hDownloading lz4-4.3.3-cp310-cp310-manylinux_2_17_x86_64.manylinux2014_x86_64.whl (1.3 MB)\n",
            "\u001b[2K   \u001b[90m━━━━━━━━━━━━━━━━━━━━━━━━━━━━━━━━━━━━━━━━\u001b[0m \u001b[32m1.3/1.3 MB\u001b[0m \u001b[31m9.3 MB/s\u001b[0m eta \u001b[36m0:00:00\u001b[0m\n",
            "\u001b[?25hDownloading pycryptodomex-3.20.0-cp35-abi3-manylinux_2_17_x86_64.manylinux2014_x86_64.whl (2.1 MB)\n",
            "\u001b[2K   \u001b[90m━━━━━━━━━━━━━━━━━━━━━━━━━━━━━━━━━━━━━━━━\u001b[0m \u001b[32m2.1/2.1 MB\u001b[0m \u001b[31m32.2 MB/s\u001b[0m eta \u001b[36m0:00:00\u001b[0m\n",
            "\u001b[?25hDownloading h11-0.14.0-py3-none-any.whl (58 kB)\n",
            "\u001b[2K   \u001b[90m━━━━━━━━━━━━━━━━━━━━━━━━━━━━━━━━━━━━━━━━\u001b[0m \u001b[32m58.3/58.3 kB\u001b[0m \u001b[31m3.7 MB/s\u001b[0m eta \u001b[36m0:00:00\u001b[0m\n",
            "\u001b[?25hDownloading hpack-4.0.0-py3-none-any.whl (32 kB)\n",
            "Downloading hyperframe-6.0.1-py3-none-any.whl (12 kB)\n",
            "Installing collected packages: pycryptodomex, lz4, loguru, hyperframe, hpack, h11, httpcore, h2, browser-cookie3, httpx, python-gemini-api\n",
            "Successfully installed browser-cookie3-0.19.1 h11-0.14.0 h2-4.1.0 hpack-4.0.0 httpcore-1.0.5 httpx-0.27.2 hyperframe-6.0.1 loguru-0.7.2 lz4-4.3.3 pycryptodomex-3.20.0 python-gemini-api-2.4.12\n"
          ]
        }
      ],
      "source": [
        "pip install python-gemini-api\n"
      ]
    },
    {
      "cell_type": "code",
      "source": [
        "pip install git+https://github.com/dsdanielpark/Gemini-API.git\n"
      ],
      "metadata": {
        "colab": {
          "base_uri": "https://localhost:8080/"
        },
        "id": "O3sYijO88V8e",
        "outputId": "5352ae81-58cc-4f9e-f68c-67a4c1bf549a"
      },
      "execution_count": null,
      "outputs": [
        {
          "output_type": "stream",
          "name": "stdout",
          "text": [
            "Collecting git+https://github.com/dsdanielpark/Gemini-API.git\n",
            "  Cloning https://github.com/dsdanielpark/Gemini-API.git to /tmp/pip-req-build-6vs9ix4u\n",
            "  Running command git clone --filter=blob:none --quiet https://github.com/dsdanielpark/Gemini-API.git /tmp/pip-req-build-6vs9ix4u\n",
            "  Resolved https://github.com/dsdanielpark/Gemini-API.git to commit bb4fdea1b0219cd115812ee14948bd1dbbe05cac\n",
            "  Preparing metadata (setup.py) ... \u001b[?25l\u001b[?25hdone\n",
            "Requirement already satisfied: httpx>=0.20.0 in /usr/local/lib/python3.10/dist-packages (from httpx[http2]>=0.20.0->python-gemini-api==2.4.12) (0.27.2)\n",
            "Requirement already satisfied: requests in /usr/local/lib/python3.10/dist-packages (from python-gemini-api==2.4.12) (2.32.3)\n",
            "Requirement already satisfied: browser_cookie3 in /usr/local/lib/python3.10/dist-packages (from python-gemini-api==2.4.12) (0.19.1)\n",
            "Requirement already satisfied: loguru in /usr/local/lib/python3.10/dist-packages (from python-gemini-api==2.4.12) (0.7.2)\n",
            "Requirement already satisfied: pydantic in /usr/local/lib/python3.10/dist-packages (from python-gemini-api==2.4.12) (2.9.1)\n",
            "Requirement already satisfied: aiohttp in /usr/local/lib/python3.10/dist-packages (from python-gemini-api==2.4.12) (3.10.5)\n",
            "Requirement already satisfied: anyio in /usr/local/lib/python3.10/dist-packages (from httpx>=0.20.0->httpx[http2]>=0.20.0->python-gemini-api==2.4.12) (3.7.1)\n",
            "Requirement already satisfied: certifi in /usr/local/lib/python3.10/dist-packages (from httpx>=0.20.0->httpx[http2]>=0.20.0->python-gemini-api==2.4.12) (2024.8.30)\n",
            "Requirement already satisfied: httpcore==1.* in /usr/local/lib/python3.10/dist-packages (from httpx>=0.20.0->httpx[http2]>=0.20.0->python-gemini-api==2.4.12) (1.0.5)\n",
            "Requirement already satisfied: idna in /usr/local/lib/python3.10/dist-packages (from httpx>=0.20.0->httpx[http2]>=0.20.0->python-gemini-api==2.4.12) (3.8)\n",
            "Requirement already satisfied: sniffio in /usr/local/lib/python3.10/dist-packages (from httpx>=0.20.0->httpx[http2]>=0.20.0->python-gemini-api==2.4.12) (1.3.1)\n",
            "Requirement already satisfied: h11<0.15,>=0.13 in /usr/local/lib/python3.10/dist-packages (from httpcore==1.*->httpx>=0.20.0->httpx[http2]>=0.20.0->python-gemini-api==2.4.12) (0.14.0)\n",
            "Requirement already satisfied: h2<5,>=3 in /usr/local/lib/python3.10/dist-packages (from httpx[http2]>=0.20.0->python-gemini-api==2.4.12) (4.1.0)\n",
            "Requirement already satisfied: aiohappyeyeballs>=2.3.0 in /usr/local/lib/python3.10/dist-packages (from aiohttp->python-gemini-api==2.4.12) (2.4.0)\n",
            "Requirement already satisfied: aiosignal>=1.1.2 in /usr/local/lib/python3.10/dist-packages (from aiohttp->python-gemini-api==2.4.12) (1.3.1)\n",
            "Requirement already satisfied: attrs>=17.3.0 in /usr/local/lib/python3.10/dist-packages (from aiohttp->python-gemini-api==2.4.12) (24.2.0)\n",
            "Requirement already satisfied: frozenlist>=1.1.1 in /usr/local/lib/python3.10/dist-packages (from aiohttp->python-gemini-api==2.4.12) (1.4.1)\n",
            "Requirement already satisfied: multidict<7.0,>=4.5 in /usr/local/lib/python3.10/dist-packages (from aiohttp->python-gemini-api==2.4.12) (6.1.0)\n",
            "Requirement already satisfied: yarl<2.0,>=1.0 in /usr/local/lib/python3.10/dist-packages (from aiohttp->python-gemini-api==2.4.12) (1.11.1)\n",
            "Requirement already satisfied: async-timeout<5.0,>=4.0 in /usr/local/lib/python3.10/dist-packages (from aiohttp->python-gemini-api==2.4.12) (4.0.3)\n",
            "Requirement already satisfied: lz4 in /usr/local/lib/python3.10/dist-packages (from browser_cookie3->python-gemini-api==2.4.12) (4.3.3)\n",
            "Requirement already satisfied: pycryptodomex in /usr/local/lib/python3.10/dist-packages (from browser_cookie3->python-gemini-api==2.4.12) (3.20.0)\n",
            "Requirement already satisfied: jeepney in /usr/lib/python3/dist-packages (from browser_cookie3->python-gemini-api==2.4.12) (0.7.1)\n",
            "Requirement already satisfied: annotated-types>=0.6.0 in /usr/local/lib/python3.10/dist-packages (from pydantic->python-gemini-api==2.4.12) (0.7.0)\n",
            "Requirement already satisfied: pydantic-core==2.23.3 in /usr/local/lib/python3.10/dist-packages (from pydantic->python-gemini-api==2.4.12) (2.23.3)\n",
            "Requirement already satisfied: typing-extensions>=4.6.1 in /usr/local/lib/python3.10/dist-packages (from pydantic->python-gemini-api==2.4.12) (4.12.2)\n",
            "Requirement already satisfied: charset-normalizer<4,>=2 in /usr/local/lib/python3.10/dist-packages (from requests->python-gemini-api==2.4.12) (3.3.2)\n",
            "Requirement already satisfied: urllib3<3,>=1.21.1 in /usr/local/lib/python3.10/dist-packages (from requests->python-gemini-api==2.4.12) (2.0.7)\n",
            "Requirement already satisfied: hyperframe<7,>=6.0 in /usr/local/lib/python3.10/dist-packages (from h2<5,>=3->httpx[http2]>=0.20.0->python-gemini-api==2.4.12) (6.0.1)\n",
            "Requirement already satisfied: hpack<5,>=4.0 in /usr/local/lib/python3.10/dist-packages (from h2<5,>=3->httpx[http2]>=0.20.0->python-gemini-api==2.4.12) (4.0.0)\n",
            "Requirement already satisfied: exceptiongroup in /usr/local/lib/python3.10/dist-packages (from anyio->httpx>=0.20.0->httpx[http2]>=0.20.0->python-gemini-api==2.4.12) (1.2.2)\n"
          ]
        }
      ]
    },
    {
      "cell_type": "code",
      "source": [
        "pip install textblob\n"
      ],
      "metadata": {
        "colab": {
          "base_uri": "https://localhost:8080/"
        },
        "id": "QqvukXhfynm0",
        "outputId": "f3684537-ef7a-4e27-cc71-4e17118fd64a"
      },
      "execution_count": null,
      "outputs": [
        {
          "output_type": "stream",
          "name": "stdout",
          "text": [
            "Requirement already satisfied: textblob in /usr/local/lib/python3.10/dist-packages (0.17.1)\n",
            "Requirement already satisfied: nltk>=3.1 in /usr/local/lib/python3.10/dist-packages (from textblob) (3.8.1)\n",
            "Requirement already satisfied: click in /usr/local/lib/python3.10/dist-packages (from nltk>=3.1->textblob) (8.1.7)\n",
            "Requirement already satisfied: joblib in /usr/local/lib/python3.10/dist-packages (from nltk>=3.1->textblob) (1.4.2)\n",
            "Requirement already satisfied: regex>=2021.8.3 in /usr/local/lib/python3.10/dist-packages (from nltk>=3.1->textblob) (2024.5.15)\n",
            "Requirement already satisfied: tqdm in /usr/local/lib/python3.10/dist-packages (from nltk>=3.1->textblob) (4.66.5)\n"
          ]
        }
      ]
    },
    {
      "cell_type": "code",
      "source": [
        "from gemini import Gemini\n",
        "from textblob import TextBlob"
      ],
      "metadata": {
        "id": "vlVzOHuxy3zf"
      },
      "execution_count": null,
      "outputs": []
    },
    {
      "cell_type": "code",
      "source": [
        "def get_user_input(prompt):\n",
        "    return input(prompt)"
      ],
      "metadata": {
        "id": "dsLsQwlNy7Qf"
      },
      "execution_count": null,
      "outputs": []
    },
    {
      "cell_type": "code",
      "source": [
        "def analyze_reaction(text):\n",
        "    blob = TextBlob(text)\n",
        "    reaction = blob.sentiment.polarity\n",
        "    if reaction > 0.1:\n",
        "        return \"positive\"\n",
        "    elif reaction < -0.1:\n",
        "        return \"negative\"\n",
        "    else:\n",
        "        return \"neutral\""
      ],
      "metadata": {
        "id": "Boq4WIWEy9za"
      },
      "execution_count": null,
      "outputs": []
    },
    {
      "cell_type": "code",
      "source": [
        "def negotiate_price(actual_price,minimum_price, discount):\n",
        "\n",
        "    name = str(get_user_input(f\"what is your name ?\"))\n",
        "\n",
        "    print(f\"Hello! {name} welcome \")\n",
        "    counter_offer = actual_price\n",
        "\n",
        "    while(counter_offer < minimum_price):\n",
        "      print(f\"Sorry! {name} we had already given the maximum discount that our company provided.\\n If you still want discount I will suggest other plans for you please look  in to it.\\n Thank You.\")\n",
        "      break\n",
        "\n",
        "    while(counter_offer >= minimum_price):\n",
        "        user_offer = float(get_user_input(f\"The actual price is ${actual_price}. How much would you like to offer? \"))\n",
        "\n",
        "        counter_offer = max(actual_price * (1 - discount / 100), user_offer + 2)\n",
        "\n",
        "        print(f\"Supplier's counter-offer: ${counter_offer:.2f} (after {discount}% discount)\")\n",
        "\n",
        "        response = get_user_input(\"Do you accept this offer? (yes/no) \")\n",
        "\n",
        "        answer = analyze_reaction(response)\n",
        "\n",
        "        print(f\"User's reaction: {answer}\")\n",
        "\n",
        "        if response.lower() == 'yes':\n",
        "            print(\"Ok! Deal is Done You can pay Now!\")\n",
        "            print('Thank you Visit Again!!😊😊😃😃')\n",
        "            break\n",
        "\n",
        "        else:\n",
        "            if answer == \"negative\":\n",
        "                discount += 5\n",
        "            else:\n",
        "                discount += 3\n",
        "\n",
        "\n",
        "            print(f\"Discount increased to {discount}%.Let's continue negotiating.\")\n",
        "\n"
      ],
      "metadata": {
        "id": "Rgh1ieSCzAY0"
      },
      "execution_count": null,
      "outputs": []
    },
    {
      "cell_type": "code",
      "source": [
        "negotiate_price(1800,1600, 10)"
      ],
      "metadata": {
        "id": "A-0vZAkizGna",
        "colab": {
          "base_uri": "https://localhost:8080/"
        },
        "outputId": "ce4916f7-5b0e-44f4-db15-f10d0a272115"
      },
      "execution_count": null,
      "outputs": [
        {
          "output_type": "stream",
          "name": "stdout",
          "text": [
            "what is your name ?vinay teja\n",
            "Hello! vinay teja welcome \n",
            "The actual price is $1800. How much would you like to offer? 1200\n",
            "Supplier's counter-offer: $1620.00 (after 10% discount)\n",
            "Do you accept this offer? (yes/no) sorry\n",
            "User's reaction: negative\n",
            "Discount increased to 15%.Let's continue negotiating.\n",
            "The actual price is $1800. How much would you like to offer? 1600\n",
            "Supplier's counter-offer: $1602.00 (after 15% discount)\n",
            "Do you accept this offer? (yes/no) yes\n",
            "User's reaction: neutral\n",
            "Ok! Deal is Done You can pay Now!\n",
            "Thank you Visit Again!!😊😊😃😃\n"
          ]
        }
      ]
    }
  ]
}